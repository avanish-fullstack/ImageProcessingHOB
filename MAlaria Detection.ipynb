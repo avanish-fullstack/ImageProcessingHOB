{
 "cells": [
  {
   "cell_type": "code",
   "execution_count": 17,
   "metadata": {},
   "outputs": [],
   "source": [
    "import os\n",
    "import seaborn as sns"
   ]
  },
  {
   "cell_type": "code",
   "execution_count": 10,
   "metadata": {},
   "outputs": [],
   "source": [
    "base_dir = os.path.join('./cell_images')"
   ]
  },
  {
   "cell_type": "code",
   "execution_count": 11,
   "metadata": {},
   "outputs": [
    {
     "data": {
      "text/plain": [
       "'./cell_images'"
      ]
     },
     "execution_count": 11,
     "metadata": {},
     "output_type": "execute_result"
    }
   ],
   "source": [
    "base_dir"
   ]
  },
  {
   "cell_type": "code",
   "execution_count": 13,
   "metadata": {},
   "outputs": [],
   "source": [
    "# read train cs file\n",
    "import pandas as pd\n",
    "import numpy as np"
   ]
  },
  {
   "cell_type": "code",
   "execution_count": 14,
   "metadata": {},
   "outputs": [],
   "source": [
    "traindf = pd.read_csv('train.csv')"
   ]
  },
  {
   "cell_type": "code",
   "execution_count": 15,
   "metadata": {},
   "outputs": [
    {
     "data": {
      "text/html": [
       "<div>\n",
       "<style scoped>\n",
       "    .dataframe tbody tr th:only-of-type {\n",
       "        vertical-align: middle;\n",
       "    }\n",
       "\n",
       "    .dataframe tbody tr th {\n",
       "        vertical-align: top;\n",
       "    }\n",
       "\n",
       "    .dataframe thead th {\n",
       "        text-align: right;\n",
       "    }\n",
       "</style>\n",
       "<table border=\"1\" class=\"dataframe\">\n",
       "  <thead>\n",
       "    <tr style=\"text-align: right;\">\n",
       "      <th></th>\n",
       "      <th>filename</th>\n",
       "      <th>label</th>\n",
       "    </tr>\n",
       "  </thead>\n",
       "  <tbody>\n",
       "    <tr>\n",
       "      <th>0</th>\n",
       "      <td>C50P11thinF_IMG_20150724_114951_cell_148.png</td>\n",
       "      <td>malaria</td>\n",
       "    </tr>\n",
       "    <tr>\n",
       "      <th>1</th>\n",
       "      <td>C112P73ThinF_IMG_20150930_131659_cell_94.png</td>\n",
       "      <td>healthy</td>\n",
       "    </tr>\n",
       "    <tr>\n",
       "      <th>2</th>\n",
       "      <td>C59P20thinF_IMG_20150803_111333_cell_144.png</td>\n",
       "      <td>malaria</td>\n",
       "    </tr>\n",
       "    <tr>\n",
       "      <th>3</th>\n",
       "      <td>C158P119ThinF_IMG_20151115_181136_cell_202.png</td>\n",
       "      <td>malaria</td>\n",
       "    </tr>\n",
       "    <tr>\n",
       "      <th>4</th>\n",
       "      <td>C81P42ThinF_IMG_20150817_120524_cell_190.png</td>\n",
       "      <td>malaria</td>\n",
       "    </tr>\n",
       "  </tbody>\n",
       "</table>\n",
       "</div>"
      ],
      "text/plain": [
       "                                         filename    label\n",
       "0    C50P11thinF_IMG_20150724_114951_cell_148.png  malaria\n",
       "1    C112P73ThinF_IMG_20150930_131659_cell_94.png  healthy\n",
       "2    C59P20thinF_IMG_20150803_111333_cell_144.png  malaria\n",
       "3  C158P119ThinF_IMG_20151115_181136_cell_202.png  malaria\n",
       "4    C81P42ThinF_IMG_20150817_120524_cell_190.png  malaria"
      ]
     },
     "execution_count": 15,
     "metadata": {},
     "output_type": "execute_result"
    }
   ],
   "source": [
    "traindf.head()"
   ]
  },
  {
   "cell_type": "code",
   "execution_count": 16,
   "metadata": {},
   "outputs": [
    {
     "data": {
      "text/plain": [
       "(19290, 2)"
      ]
     },
     "execution_count": 16,
     "metadata": {},
     "output_type": "execute_result"
    }
   ],
   "source": [
    "traindf.shape"
   ]
  },
  {
   "cell_type": "code",
   "execution_count": 19,
   "metadata": {},
   "outputs": [
    {
     "data": {
      "text/plain": [
       "<matplotlib.axes._subplots.AxesSubplot at 0x27af863fda0>"
      ]
     },
     "execution_count": 19,
     "metadata": {},
     "output_type": "execute_result"
    },
    {
     "data": {
      "image/png": "[encoded data removed]",
      "text/plain": [
       "<Figure size 432x288 with 1 Axes>"
      ]
     },
     "metadata": {
      "needs_background": "light"
     },
     "output_type": "display_data"
    }
   ],
   "source": [
    "# distribution of malaria/non-malaria images\n",
    "sns.countplot(traindf['label'])"
   ]
  },
  {
   "cell_type": "code",
   "execution_count": 21,
   "metadata": {},
   "outputs": [
    {
     "data": {
      "text/plain": [
       "malaria    9645\n",
       "healthy    9645\n",
       "Name: label, dtype: int64"
      ]
     },
     "execution_count": 21,
     "metadata": {},
     "output_type": "execute_result"
    }
   ],
   "source": [
    "traindf['label'].value_counts()"
   ]
  },
  {
   "cell_type": "code",
   "execution_count": 25,
   "metadata": {},
   "outputs": [],
   "source": [
    "from skimage.io import imread , imshow\n",
    "import matplotlib.pyplot as plt"
   ]
  },
  {
   "cell_type": "code",
   "execution_count": 32,
   "metadata": {},
   "outputs": [
    {
     "data": {
      "text/plain": [
       "<Figure size 1080x1080 with 0 Axes>"
      ]
     },
     "metadata": {},
     "output_type": "display_data"
    },
    {
     "data": {
      "image/png": "[encoded data removed]",
      "text/plain": [
       "<Figure size 432x288 with 4 Axes>"
      ]
     },
     "metadata": {
      "needs_background": "light"
     },
     "output_type": "display_data"
    }
   ],
   "source": [
    "plt.figure(figsize = (15,15))\n",
    "fig, ax = plt.subplots(nrows = 2 , ncols = 2)\n",
    "\n",
    "for i in range(2):\n",
    "    for j in range(2):\n",
    "        image = imread(os.path.join(base_dir , traindf['filename'][i+ 4 * j]))\n",
    "        ax[i,j].imshow(image)\n",
    "        ax[i,j].set_ylabel(traindf[\"label\"][i + 4*j])\n",
    "        "
   ]
  },
  {
   "cell_type": "code",
   "execution_count": 34,
   "metadata": {},
   "outputs": [],
   "source": [
    "# Data preparation\n",
    "from sklearn.model_selection import train_test_split\n",
    "\n",
    "train_files , val_files , train_labels , val_labels = train_test_split(traindf['filename'] , traindf['label'] , \n",
    "                                                                       test_size= 0.2 , random_state = 42 , shuffle = True)"
   ]
  },
  {
   "cell_type": "code",
   "execution_count": 40,
   "metadata": {},
   "outputs": [
    {
     "name": "stdout",
     "output_type": "stream",
     "text": [
      "Train files shape -  (15432,) Train labels  shape - (15432,)\n",
      "Validation files shape -  (3858,) Validation labels  shape - (3858,)\n"
     ]
    }
   ],
   "source": [
    "print('Train files shape - ',train_files.shape,'Train labels  shape -' ,train_labels.shape)\n",
    "print('Validation files shape - ',val_files.shape,'Validation labels  shape -' , val_labels.shape)"
   ]
  },
  {
   "cell_type": "code",
   "execution_count": 41,
   "metadata": {},
   "outputs": [],
   "source": [
    "from skimage.transform import resize"
   ]
  },
  {
   "cell_type": "code",
   "execution_count": 48,
   "metadata": {},
   "outputs": [],
   "source": [
    "shapes = []\n",
    "\n",
    "for i in traindf['filename']:\n",
    "    image = imread(os.path.join(base_dir,i))\n",
    "    shapes.append(image.shape)"
   ]
  },
  {
   "cell_type": "code",
   "execution_count": 49,
   "metadata": {},
   "outputs": [
    {
     "data": {
      "text/plain": [
       "[(139, 127, 3),\n",
       " (130, 130, 3),\n",
       " (148, 139, 3),\n",
       " (136, 130, 3),\n",
       " (142, 166, 3),\n",
       " (148, 166, 3),\n",
       " (148, 136, 3),\n",
       " (106, 124, 3),\n",
       " (130, 130, 3),\n",
       " (166, 112, 3),\n",
       " (148, 178, 3),\n",
       " (118, 109, 3),\n",
       " (115, 112, 3),\n",
       " (94, 112, 3),\n",
       " (157, 127, 3),\n",
       " (193, 118, 3),\n",
       " (169, 172, 3),\n",
       " (118, 121, 3),\n",
       " (148, 124, 3),\n",
       " (127, 130, 3),\n",
       " (142, 151, 3),\n",
       " (160, 118, 3),\n",
       " (118, 109, 3),\n",
       " (94, 103, 3),\n",
       " (121, 154, 3),\n",
       " (115, 133, 3),\n",
       " (127, 148, 3),\n",
       " (127, 130, 3),\n",
       " (136, 124, 3),\n",
       " (133, 145, 3),\n",
       " (112, 91, 3),\n",
       " (106, 118, 3),\n",
       " (130, 148, 3),\n",
       " (139, 121, 3),\n",
       " (145, 97, 3),\n",
       " (121, 145, 3),\n",
       " (139, 139, 3),\n",
       " (124, 133, 3),\n",
       " (136, 136, 3),\n",
       " (139, 121, 3),\n",
       " (130, 148, 3),\n",
       " (136, 130, 3),\n",
       " (133, 139, 3),\n",
       " (106, 163, 3),\n",
       " (115, 100, 3),\n",
       " (133, 121, 3),\n",
       " (121, 124, 3),\n",
       " (127, 133, 3),\n",
       " (154, 121, 3),\n",
       " (154, 127, 3),\n",
       " (169, 139, 3),\n",
       " (133, 133, 3),\n",
       " (127, 133, 3),\n",
       " (145, 142, 3),\n",
       " (106, 127, 3),\n",
       " (82, 82, 3),\n",
       " (115, 118, 3),\n",
       " (160, 103, 3),\n",
       " (136, 163, 3),\n",
       " (124, 139, 3),\n",
       " (112, 112, 3),\n",
       " (139, 127, 3),\n",
       " (127, 118, 3),\n",
       " (130, 127, 3),\n",
       " (133, 130, 3),\n",
       " (130, 136, 3),\n",
       " (148, 166, 3),\n",
       " (121, 127, 3),\n",
       " (127, 124, 3),\n",
       " (145, 166, 3),\n",
       " (163, 133, 3),\n",
       " (109, 118, 3),\n",
       " (127, 130, 3),\n",
       " (136, 118, 3),\n",
       " (106, 112, 3),\n",
       " (142, 124, 3),\n",
       " (76, 85, 3),\n",
       " (136, 136, 3),\n",
       " (127, 118, 3),\n",
       " (148, 118, 3),\n",
       " (151, 124, 3),\n",
       " (127, 118, 3),\n",
       " (118, 109, 3),\n",
       " (124, 139, 3),\n",
       " (133, 151, 3),\n",
       " (181, 151, 3),\n",
       " (94, 100, 3),\n",
       " (148, 136, 3),\n",
       " (145, 130, 3),\n",
       " (133, 136, 3),\n",
       " (169, 127, 3),\n",
       " (133, 121, 3),\n",
       " (181, 139, 3),\n",
       " (136, 142, 3),\n",
       " (142, 124, 3),\n",
       " (148, 139, 3),\n",
       " (148, 148, 3),\n",
       " (160, 136, 3),\n",
       " (127, 127, 3),\n",
       " (133, 130, 3),\n",
       " (130, 148, 3),\n",
       " (127, 139, 3),\n",
       " (127, 160, 3),\n",
       " (124, 133, 3),\n",
       " (136, 127, 3),\n",
       " (133, 136, 3),\n",
       " (133, 133, 3),\n",
       " (154, 151, 3),\n",
       " (112, 124, 3),\n",
       " (124, 109, 3),\n",
       " (94, 94, 3),\n",
       " (127, 112, 3),\n",
       " (133, 118, 3),\n",
       " (124, 127, 3),\n",
       " (112, 124, 3),\n",
       " (121, 151, 3),\n",
       " (103, 97, 3),\n",
       " (142, 121, 3),\n",
       " (133, 145, 3),\n",
       " (136, 118, 3),\n",
       " (133, 115, 3),\n",
       " (142, 133, 3),\n",
       " (145, 133, 3),\n",
       " (154, 163, 3),\n",
       " (103, 103, 3),\n",
       " (136, 100, 3),\n",
       " (121, 169, 3),\n",
       " (100, 112, 3),\n",
       " (148, 139, 3),\n",
       " (139, 139, 3),\n",
       " (118, 133, 3),\n",
       " (94, 115, 3),\n",
       " (133, 136, 3),\n",
       " (124, 118, 3),\n",
       " (163, 202, 3),\n",
       " (136, 154, 3),\n",
       " (124, 142, 3),\n",
       " (163, 136, 3),\n",
       " (154, 127, 3),\n",
       " (142, 112, 3),\n",
       " (142, 133, 3),\n",
       " (154, 115, 3),\n",
       " (151, 169, 3),\n",
       " (187, 208, 3),\n",
       " (106, 97, 3),\n",
       " (121, 127, 3),\n",
       " (145, 145, 3),\n",
       " (124, 127, 3),\n",
       " (85, 100, 3),\n",
       " (118, 139, 3),\n",
       " (118, 127, 3),\n",
       " (103, 112, 3),\n",
       " (106, 106, 3),\n",
       " (121, 112, 3),\n",
       " (109, 121, 3),\n",
       " (172, 163, 3),\n",
       " (124, 115, 3),\n",
       " (118, 118, 3),\n",
       " (121, 112, 3),\n",
       " (139, 145, 3),\n",
       " (130, 145, 3),\n",
       " (136, 124, 3),\n",
       " (148, 154, 3),\n",
       " (124, 112, 3),\n",
       " (124, 121, 3),\n",
       " (139, 133, 3),\n",
       " (124, 133, 3),\n",
       " (85, 100, 3),\n",
       " (130, 139, 3),\n",
       " (130, 136, 3),\n",
       " (97, 127, 3),\n",
       " (109, 103, 3),\n",
       " (160, 115, 3),\n",
       " (127, 127, 3),\n",
       " (127, 124, 3),\n",
       " (124, 142, 3),\n",
       " (130, 133, 3),\n",
       " (139, 157, 3),\n",
       " (130, 136, 3),\n",
       " (115, 106, 3),\n",
       " (127, 124, 3),\n",
       " (130, 115, 3),\n",
       " (172, 166, 3),\n",
       " (124, 130, 3),\n",
       " (133, 136, 3),\n",
       " (109, 121, 3),\n",
       " (91, 106, 3),\n",
       " (142, 145, 3),\n",
       " (139, 130, 3),\n",
       " (154, 163, 3),\n",
       " (133, 142, 3),\n",
       " (142, 109, 3),\n",
       " (184, 130, 3),\n",
       " (142, 127, 3),\n",
       " (124, 121, 3),\n",
       " (112, 133, 3),\n",
       " (145, 139, 3),\n",
       " (139, 157, 3),\n",
       " (127, 127, 3),\n",
       " (94, 109, 3),\n",
       " (112, 112, 3),\n",
       " (148, 124, 3),\n",
       " (145, 118, 3),\n",
       " (124, 136, 3),\n",
       " (124, 124, 3),\n",
       " (145, 121, 3),\n",
       " (133, 136, 3),\n",
       " (118, 109, 3),\n",
       " (109, 121, 3),\n",
       " (106, 133, 3),\n",
       " (163, 133, 3),\n",
       " (133, 136, 3),\n",
       " (187, 139, 3),\n",
       " (121, 106, 3),\n",
       " (139, 148, 3),\n",
       " (154, 112, 3),\n",
       " (124, 136, 3),\n",
       " (130, 142, 3),\n",
       " (157, 124, 3),\n",
       " (130, 106, 3),\n",
       " (115, 109, 3),\n",
       " (127, 127, 3),\n",
       " (88, 106, 3),\n",
       " (139, 112, 3),\n",
       " (124, 139, 3),\n",
       " (112, 106, 3),\n",
       " (121, 148, 3),\n",
       " (139, 154, 3),\n",
       " (148, 148, 3),\n",
       " (127, 133, 3),\n",
       " (94, 85, 3),\n",
       " (163, 172, 3),\n",
       " (157, 154, 3),\n",
       " (172, 142, 3),\n",
       " (148, 139, 3),\n",
       " (133, 109, 3),\n",
       " (124, 139, 3),\n",
       " (127, 145, 3),\n",
       " (133, 154, 3),\n",
       " (133, 127, 3),\n",
       " (133, 124, 3),\n",
       " (115, 205, 3),\n",
       " (139, 145, 3),\n",
       " (103, 121, 3),\n",
       " (103, 100, 3),\n",
       " (124, 121, 3),\n",
       " (118, 118, 3),\n",
       " (130, 130, 3),\n",
       " (88, 79, 3),\n",
       " (103, 112, 3),\n",
       " (136, 145, 3),\n",
       " (169, 151, 3),\n",
       " (145, 160, 3),\n",
       " (115, 109, 3),\n",
       " (121, 127, 3),\n",
       " (136, 112, 3),\n",
       " (112, 127, 3),\n",
       " (145, 145, 3),\n",
       " (109, 121, 3),\n",
       " (154, 142, 3),\n",
       " (148, 145, 3),\n",
       " (145, 142, 3),\n",
       " (166, 130, 3),\n",
       " (121, 118, 3),\n",
       " (148, 160, 3),\n",
       " (136, 100, 3),\n",
       " (142, 142, 3),\n",
       " (121, 115, 3),\n",
       " (115, 127, 3),\n",
       " (115, 133, 3),\n",
       " (145, 154, 3),\n",
       " (145, 148, 3),\n",
       " (121, 127, 3),\n",
       " (130, 154, 3),\n",
       " (106, 118, 3),\n",
       " (127, 133, 3),\n",
       " (121, 139, 3),\n",
       " (130, 172, 3),\n",
       " (178, 163, 3),\n",
       " (136, 118, 3),\n",
       " (130, 127, 3),\n",
       " (139, 136, 3),\n",
       " (127, 142, 3),\n",
       " (109, 121, 3),\n",
       " (130, 121, 3),\n",
       " (121, 115, 3),\n",
       " (100, 118, 3),\n",
       " (112, 133, 3),\n",
       " (82, 130, 3),\n",
       " (109, 112, 3),\n",
       " (103, 121, 3),\n",
       " (130, 142, 3),\n",
       " (121, 124, 3),\n",
       " (139, 103, 3),\n",
       " (148, 181, 3),\n",
       " (112, 130, 3),\n",
       " (127, 124, 3),\n",
       " (121, 124, 3),\n",
       " (103, 103, 3),\n",
       " (127, 154, 3),\n",
       " (112, 130, 3),\n",
       " (112, 118, 3),\n",
       " (127, 118, 3),\n",
       " (106, 112, 3),\n",
       " (118, 136, 3),\n",
       " (115, 109, 3),\n",
       " (106, 112, 3),\n",
       " (133, 139, 3),\n",
       " (151, 136, 3),\n",
       " (151, 157, 3),\n",
       " (166, 139, 3),\n",
       " (136, 133, 3),\n",
       " (184, 151, 3),\n",
       " (130, 151, 3),\n",
       " (133, 142, 3),\n",
       " (127, 106, 3),\n",
       " (139, 175, 3),\n",
       " (118, 145, 3),\n",
       " (130, 136, 3),\n",
       " (166, 133, 3),\n",
       " (106, 109, 3),\n",
       " (106, 160, 3),\n",
       " (133, 127, 3),\n",
       " (127, 124, 3),\n",
       " (172, 175, 3),\n",
       " (106, 124, 3),\n",
       " (124, 112, 3),\n",
       " (91, 103, 3),\n",
       " (106, 109, 3),\n",
       " (121, 130, 3),\n",
       " (136, 133, 3),\n",
       " (103, 106, 3),\n",
       " (112, 139, 3),\n",
       " (121, 139, 3),\n",
       " (145, 133, 3),\n",
       " (121, 136, 3),\n",
       " (100, 133, 3),\n",
       " (151, 157, 3),\n",
       " (124, 118, 3),\n",
       " (133, 127, 3),\n",
       " (142, 142, 3),\n",
       " (166, 145, 3),\n",
       " (133, 127, 3),\n",
       " (121, 142, 3),\n",
       " (142, 139, 3),\n",
       " (127, 130, 3),\n",
       " (82, 76, 3),\n",
       " (148, 115, 3),\n",
       " (136, 133, 3),\n",
       " (175, 139, 3),\n",
       " (127, 121, 3),\n",
       " (178, 154, 3),\n",
       " (154, 148, 3),\n",
       " (151, 145, 3),\n",
       " (136, 133, 3),\n",
       " (142, 160, 3),\n",
       " (193, 94, 3),\n",
       " (160, 148, 3),\n",
       " (124, 148, 3),\n",
       " (148, 133, 3),\n",
       " (142, 142, 3),\n",
       " (124, 127, 3),\n",
       " (106, 115, 3),\n",
       " (157, 142, 3),\n",
       " (184, 193, 3),\n",
       " (124, 130, 3),\n",
       " (160, 121, 3),\n",
       " (142, 151, 3),\n",
       " (118, 127, 3),\n",
       " (139, 127, 3),\n",
       " (133, 145, 3),\n",
       " (121, 115, 3),\n",
       " (130, 136, 3),\n",
       " (172, 163, 3),\n",
       " (133, 154, 3),\n",
       " (148, 130, 3),\n",
       " (154, 130, 3),\n",
       " (133, 139, 3),\n",
       " (130, 127, 3),\n",
       " (151, 139, 3),\n",
       " (127, 142, 3),\n",
       " (121, 124, 3),\n",
       " (124, 133, 3),\n",
       " (139, 133, 3),\n",
       " (130, 163, 3),\n",
       " (142, 139, 3),\n",
       " (121, 133, 3),\n",
       " (124, 154, 3),\n",
       " (145, 118, 3),\n",
       " (121, 130, 3),\n",
       " (163, 154, 3),\n",
       " (130, 136, 3),\n",
       " (163, 151, 3),\n",
       " (145, 118, 3),\n",
       " (154, 121, 3),\n",
       " (115, 118, 3),\n",
       " (124, 127, 3),\n",
       " (157, 130, 3),\n",
       " (112, 127, 3),\n",
       " (154, 136, 3),\n",
       " (121, 124, 3),\n",
       " (124, 106, 3),\n",
       " (163, 127, 3),\n",
       " (148, 142, 3),\n",
       " (133, 133, 3),\n",
       " (115, 106, 3),\n",
       " (136, 121, 3),\n",
       " (145, 130, 3),\n",
       " (130, 109, 3),\n",
       " (127, 127, 3),\n",
       " (127, 139, 3),\n",
       " (136, 121, 3),\n",
       " (148, 145, 3),\n",
       " (130, 130, 3),\n",
       " (139, 169, 3),\n",
       " (112, 121, 3),\n",
       " (85, 82, 3),\n",
       " (136, 142, 3),\n",
       " (130, 133, 3),\n",
       " (130, 133, 3),\n",
       " (115, 109, 3),\n",
       " (124, 133, 3),\n",
       " (121, 115, 3),\n",
       " (130, 91, 3),\n",
       " (106, 133, 3),\n",
       " (130, 148, 3),\n",
       " (115, 151, 3),\n",
       " (130, 127, 3),\n",
       " (112, 106, 3),\n",
       " (124, 127, 3),\n",
       " (130, 139, 3),\n",
       " (133, 133, 3),\n",
       " (139, 184, 3),\n",
       " (133, 130, 3),\n",
       " (127, 142, 3),\n",
       " (124, 133, 3),\n",
       " (118, 115, 3),\n",
       " (127, 130, 3),\n",
       " (133, 130, 3),\n",
       " (133, 145, 3),\n",
       " (193, 142, 3),\n",
       " (118, 121, 3),\n",
       " (154, 127, 3),\n",
       " (145, 136, 3),\n",
       " (118, 121, 3),\n",
       " (133, 112, 3),\n",
       " (112, 127, 3),\n",
       " (121, 94, 3),\n",
       " (109, 100, 3),\n",
       " (142, 118, 3),\n",
       " (127, 112, 3),\n",
       " (166, 133, 3),\n",
       " (142, 127, 3),\n",
       " (121, 178, 3),\n",
       " (154, 124, 3),\n",
       " (133, 142, 3),\n",
       " (121, 130, 3),\n",
       " (133, 115, 3),\n",
       " (109, 121, 3),\n",
       " (169, 160, 3),\n",
       " (118, 124, 3),\n",
       " (139, 118, 3),\n",
       " (142, 139, 3),\n",
       " (133, 139, 3),\n",
       " (130, 127, 3),\n",
       " (103, 127, 3),\n",
       " (145, 154, 3),\n",
       " (151, 88, 3),\n",
       " (133, 136, 3),\n",
       " (151, 88, 3),\n",
       " (154, 115, 3),\n",
       " (127, 145, 3),\n",
       " (133, 133, 3),\n",
       " (160, 139, 3),\n",
       " (166, 121, 3),\n",
       " (142, 175, 3),\n",
       " (130, 175, 3),\n",
       " (133, 145, 3),\n",
       " (145, 142, 3),\n",
       " (118, 154, 3),\n",
       " (118, 115, 3),\n",
       " (127, 130, 3),\n",
       " (115, 94, 3),\n",
       " (118, 136, 3),\n",
       " (136, 133, 3),\n",
       " (142, 139, 3),\n",
       " (142, 115, 3),\n",
       " (172, 187, 3),\n",
       " (127, 148, 3),\n",
       " (154, 124, 3),\n",
       " (121, 133, 3),\n",
       " (163, 115, 3),\n",
       " (118, 121, 3),\n",
       " (133, 130, 3),\n",
       " (127, 133, 3),\n",
       " (157, 154, 3),\n",
       " (91, 100, 3),\n",
       " (139, 97, 3),\n",
       " (121, 151, 3),\n",
       " (121, 118, 3),\n",
       " (157, 145, 3),\n",
       " (85, 94, 3),\n",
       " (142, 142, 3),\n",
       " (130, 148, 3),\n",
       " (133, 124, 3),\n",
       " (166, 130, 3),\n",
       " (154, 127, 3),\n",
       " (109, 133, 3),\n",
       " (112, 109, 3),\n",
       " (133, 130, 3),\n",
       " (130, 151, 3),\n",
       " (124, 133, 3),\n",
       " (136, 124, 3),\n",
       " (160, 136, 3),\n",
       " (112, 109, 3),\n",
       " (118, 124, 3),\n",
       " (136, 142, 3),\n",
       " (121, 115, 3),\n",
       " (148, 148, 3),\n",
       " (115, 109, 3),\n",
       " (109, 106, 3),\n",
       " (139, 139, 3),\n",
       " (151, 127, 3),\n",
       " (130, 196, 3),\n",
       " (118, 133, 3),\n",
       " (181, 148, 3),\n",
       " (136, 151, 3),\n",
       " (136, 127, 3),\n",
       " (118, 133, 3),\n",
       " (97, 85, 3),\n",
       " (130, 145, 3),\n",
       " (82, 124, 3),\n",
       " (124, 115, 3),\n",
       " (130, 148, 3),\n",
       " (145, 145, 3),\n",
       " (148, 145, 3),\n",
       " (139, 169, 3),\n",
       " (133, 121, 3),\n",
       " (133, 133, 3),\n",
       " (130, 136, 3),\n",
       " (151, 163, 3),\n",
       " (115, 136, 3),\n",
       " (154, 145, 3),\n",
       " (127, 115, 3),\n",
       " (151, 133, 3),\n",
       " (163, 118, 3),\n",
       " (148, 124, 3),\n",
       " (136, 124, 3),\n",
       " (169, 202, 3),\n",
       " (154, 154, 3),\n",
       " (127, 148, 3),\n",
       " (112, 145, 3),\n",
       " (118, 145, 3),\n",
       " (115, 91, 3),\n",
       " (121, 115, 3),\n",
       " (157, 145, 3),\n",
       " (163, 157, 3),\n",
       " (112, 142, 3),\n",
       " (160, 169, 3),\n",
       " (124, 133, 3),\n",
       " (157, 166, 3),\n",
       " (118, 142, 3),\n",
       " (133, 136, 3),\n",
       " (136, 145, 3),\n",
       " (103, 97, 3),\n",
       " (121, 136, 3),\n",
       " (130, 133, 3),\n",
       " (157, 172, 3),\n",
       " (148, 136, 3),\n",
       " (136, 136, 3),\n",
       " (142, 142, 3),\n",
       " (124, 115, 3),\n",
       " (118, 121, 3),\n",
       " (130, 133, 3),\n",
       " (133, 154, 3),\n",
       " (142, 139, 3),\n",
       " (121, 115, 3),\n",
       " (145, 118, 3),\n",
       " (115, 94, 3),\n",
       " (127, 118, 3),\n",
       " (124, 106, 3),\n",
       " (151, 157, 3),\n",
       " (136, 127, 3),\n",
       " (160, 151, 3),\n",
       " (124, 175, 3),\n",
       " (124, 124, 3),\n",
       " (100, 115, 3),\n",
       " (166, 145, 3),\n",
       " (151, 145, 3),\n",
       " (130, 139, 3),\n",
       " (130, 142, 3),\n",
       " (136, 133, 3),\n",
       " (136, 121, 3),\n",
       " (133, 130, 3),\n",
       " (172, 148, 3),\n",
       " (139, 142, 3),\n",
       " (103, 118, 3),\n",
       " (112, 145, 3),\n",
       " (103, 136, 3),\n",
       " (124, 133, 3),\n",
       " (118, 133, 3),\n",
       " (118, 130, 3),\n",
       " (148, 160, 3),\n",
       " (139, 127, 3),\n",
       " (139, 133, 3),\n",
       " (160, 109, 3),\n",
       " (127, 148, 3),\n",
       " (127, 115, 3),\n",
       " (103, 136, 3),\n",
       " (145, 142, 3),\n",
       " (151, 133, 3),\n",
       " (169, 157, 3),\n",
       " (172, 124, 3),\n",
       " (181, 121, 3),\n",
       " (136, 136, 3),\n",
       " (121, 112, 3),\n",
       " (142, 136, 3),\n",
       " (124, 127, 3),\n",
       " (115, 118, 3),\n",
       " (124, 139, 3),\n",
       " (139, 145, 3),\n",
       " (133, 139, 3),\n",
       " (118, 106, 3),\n",
       " (124, 166, 3),\n",
       " (127, 94, 3),\n",
       " (109, 106, 3),\n",
       " (142, 157, 3),\n",
       " (109, 112, 3),\n",
       " (115, 115, 3),\n",
       " (124, 121, 3),\n",
       " (124, 127, 3),\n",
       " (100, 118, 3),\n",
       " (142, 121, 3),\n",
       " (127, 157, 3),\n",
       " (124, 127, 3),\n",
       " (136, 109, 3),\n",
       " (133, 130, 3),\n",
       " (130, 124, 3),\n",
       " (136, 142, 3),\n",
       " (133, 136, 3),\n",
       " (136, 133, 3),\n",
       " (133, 124, 3),\n",
       " (142, 148, 3),\n",
       " (109, 106, 3),\n",
       " (127, 133, 3),\n",
       " (124, 130, 3),\n",
       " (151, 142, 3),\n",
       " (100, 118, 3),\n",
       " (124, 124, 3),\n",
       " (133, 142, 3),\n",
       " (136, 148, 3),\n",
       " (112, 145, 3),\n",
       " (202, 118, 3),\n",
       " (106, 106, 3),\n",
       " (148, 142, 3),\n",
       " (163, 124, 3),\n",
       " (127, 115, 3),\n",
       " (154, 124, 3),\n",
       " (100, 97, 3),\n",
       " (148, 154, 3),\n",
       " (130, 121, 3),\n",
       " (148, 106, 3),\n",
       " (124, 124, 3),\n",
       " (142, 124, 3),\n",
       " (115, 142, 3),\n",
       " (136, 172, 3),\n",
       " (130, 106, 3),\n",
       " (166, 118, 3),\n",
       " (130, 124, 3),\n",
       " (118, 121, 3),\n",
       " (124, 142, 3),\n",
       " (109, 151, 3),\n",
       " (109, 127, 3),\n",
       " (133, 139, 3),\n",
       " (118, 100, 3),\n",
       " (121, 121, 3),\n",
       " (133, 109, 3),\n",
       " (112, 127, 3),\n",
       " (130, 118, 3),\n",
       " (157, 139, 3),\n",
       " (136, 139, 3),\n",
       " (118, 118, 3),\n",
       " (130, 130, 3),\n",
       " (118, 184, 3),\n",
       " (139, 136, 3),\n",
       " (169, 163, 3),\n",
       " (136, 145, 3),\n",
       " (127, 118, 3),\n",
       " (139, 157, 3),\n",
       " (148, 148, 3),\n",
       " (115, 109, 3),\n",
       " (148, 109, 3),\n",
       " (151, 154, 3),\n",
       " (109, 136, 3),\n",
       " (118, 136, 3),\n",
       " (109, 124, 3),\n",
       " (115, 115, 3),\n",
       " (112, 115, 3),\n",
       " (103, 100, 3),\n",
       " (109, 121, 3),\n",
       " (145, 115, 3),\n",
       " (169, 151, 3),\n",
       " (142, 136, 3),\n",
       " (148, 139, 3),\n",
       " (136, 121, 3),\n",
       " (115, 121, 3),\n",
       " (118, 133, 3),\n",
       " (91, 88, 3),\n",
       " (130, 127, 3),\n",
       " (154, 166, 3),\n",
       " (127, 121, 3),\n",
       " (118, 118, 3),\n",
       " (139, 151, 3),\n",
       " (136, 124, 3),\n",
       " (130, 139, 3),\n",
       " (136, 127, 3),\n",
       " (133, 127, 3),\n",
       " (118, 172, 3),\n",
       " (142, 115, 3),\n",
       " (91, 88, 3),\n",
       " (112, 121, 3),\n",
       " (94, 145, 3),\n",
       " (118, 121, 3),\n",
       " (121, 142, 3),\n",
       " (124, 133, 3),\n",
       " (133, 157, 3),\n",
       " (115, 118, 3),\n",
       " (133, 133, 3),\n",
       " (178, 139, 3),\n",
       " (124, 124, 3),\n",
       " (124, 136, 3),\n",
       " (112, 121, 3),\n",
       " (151, 160, 3),\n",
       " (169, 175, 3),\n",
       " (103, 124, 3),\n",
       " (115, 136, 3),\n",
       " (130, 124, 3),\n",
       " (127, 118, 3),\n",
       " (133, 136, 3),\n",
       " (115, 121, 3),\n",
       " (115, 106, 3),\n",
       " (115, 142, 3),\n",
       " (121, 112, 3),\n",
       " (127, 112, 3),\n",
       " (133, 142, 3),\n",
       " (127, 133, 3),\n",
       " (151, 142, 3),\n",
       " (136, 139, 3),\n",
       " (145, 148, 3),\n",
       " (115, 115, 3),\n",
       " (112, 124, 3),\n",
       " (115, 118, 3),\n",
       " (130, 130, 3),\n",
       " (133, 145, 3),\n",
       " (118, 118, 3),\n",
       " (142, 124, 3),\n",
       " (136, 139, 3),\n",
       " (121, 106, 3),\n",
       " (163, 130, 3),\n",
       " (130, 154, 3),\n",
       " (163, 172, 3),\n",
       " (121, 136, 3),\n",
       " (151, 142, 3),\n",
       " (139, 118, 3),\n",
       " (118, 121, 3),\n",
       " (139, 163, 3),\n",
       " (127, 124, 3),\n",
       " (157, 166, 3),\n",
       " (148, 154, 3),\n",
       " (124, 118, 3),\n",
       " (121, 121, 3),\n",
       " (121, 109, 3),\n",
       " (148, 127, 3),\n",
       " (163, 142, 3),\n",
       " (169, 214, 3),\n",
       " (109, 136, 3),\n",
       " (136, 127, 3),\n",
       " (121, 130, 3),\n",
       " (175, 133, 3),\n",
       " (103, 100, 3),\n",
       " (124, 115, 3),\n",
       " (169, 154, 3),\n",
       " (118, 121, 3),\n",
       " (118, 106, 3),\n",
       " (127, 121, 3),\n",
       " (151, 136, 3),\n",
       " (130, 139, 3),\n",
       " (151, 109, 3),\n",
       " (109, 115, 3),\n",
       " (124, 127, 3),\n",
       " (112, 157, 3),\n",
       " (160, 121, 3),\n",
       " (157, 187, 3),\n",
       " (115, 109, 3),\n",
       " (133, 109, 3),\n",
       " (133, 106, 3),\n",
       " (133, 157, 3),\n",
       " (139, 154, 3),\n",
       " (127, 136, 3),\n",
       " (106, 121, 3),\n",
       " (121, 121, 3),\n",
       " (121, 124, 3),\n",
       " (136, 142, 3),\n",
       " (136, 136, 3),\n",
       " (100, 109, 3),\n",
       " (142, 124, 3),\n",
       " (184, 130, 3),\n",
       " (127, 127, 3),\n",
       " (142, 124, 3),\n",
       " (157, 145, 3),\n",
       " (133, 118, 3),\n",
       " (148, 139, 3),\n",
       " (133, 133, 3),\n",
       " (124, 100, 3),\n",
       " (118, 112, 3),\n",
       " (130, 124, 3),\n",
       " (139, 142, 3),\n",
       " (160, 148, 3),\n",
       " (187, 187, 3),\n",
       " (145, 142, 3),\n",
       " (139, 127, 3),\n",
       " (124, 130, 3),\n",
       " (112, 124, 3),\n",
       " (118, 121, 3),\n",
       " (133, 133, 3),\n",
       " (115, 136, 3),\n",
       " (130, 133, 3),\n",
       " (184, 160, 3),\n",
       " (157, 175, 3),\n",
       " (130, 133, 3),\n",
       " (136, 142, 3),\n",
       " (169, 196, 3),\n",
       " (106, 121, 3),\n",
       " (139, 133, 3),\n",
       " (124, 106, 3),\n",
       " (91, 94, 3),\n",
       " (136, 136, 3),\n",
       " (151, 124, 3),\n",
       " (178, 118, 3),\n",
       " (106, 103, 3),\n",
       " (139, 133, 3),\n",
       " (130, 133, 3),\n",
       " (142, 136, 3),\n",
       " (124, 139, 3),\n",
       " (139, 142, 3),\n",
       " (145, 148, 3),\n",
       " (136, 127, 3),\n",
       " (136, 124, 3),\n",
       " (157, 127, 3),\n",
       " (130, 121, 3),\n",
       " (115, 124, 3),\n",
       " (142, 130, 3),\n",
       " (106, 130, 3),\n",
       " (214, 190, 3),\n",
       " (124, 118, 3),\n",
       " (121, 127, 3),\n",
       " (112, 133, 3),\n",
       " (136, 121, 3),\n",
       " (169, 163, 3),\n",
       " (106, 115, 3),\n",
       " (118, 121, 3),\n",
       " (178, 169, 3),\n",
       " (139, 124, 3),\n",
       " (139, 133, 3),\n",
       " (157, 127, 3),\n",
       " (175, 193, 3),\n",
       " (133, 115, 3),\n",
       " (127, 115, 3),\n",
       " (130, 136, 3),\n",
       " (127, 130, 3),\n",
       " (160, 136, 3),\n",
       " (133, 133, 3),\n",
       " (124, 115, 3),\n",
       " (115, 133, 3),\n",
       " (106, 115, 3),\n",
       " (142, 163, 3),\n",
       " (106, 139, 3),\n",
       " (136, 142, 3),\n",
       " (130, 142, 3),\n",
       " (142, 112, 3),\n",
       " (160, 160, 3),\n",
       " (121, 130, 3),\n",
       " (97, 148, 3),\n",
       " (130, 106, 3),\n",
       " (142, 112, 3),\n",
       " (133, 124, 3),\n",
       " (118, 121, 3),\n",
       " (127, 112, 3),\n",
       " (148, 157, 3),\n",
       " (121, 127, 3),\n",
       " (127, 136, 3),\n",
       " (124, 136, 3),\n",
       " (148, 145, 3),\n",
       " (127, 130, 3),\n",
       " (133, 148, 3),\n",
       " (133, 148, 3),\n",
       " (184, 169, 3),\n",
       " (112, 121, 3),\n",
       " (136, 148, 3),\n",
       " (106, 112, 3),\n",
       " (160, 178, 3),\n",
       " (145, 154, 3),\n",
       " (136, 139, 3),\n",
       " (136, 205, 3),\n",
       " (160, 91, 3),\n",
       " (124, 163, 3),\n",
       " (136, 160, 3),\n",
       " (94, 100, 3),\n",
       " (109, 100, 3),\n",
       " (139, 124, 3),\n",
       " (133, 127, 3),\n",
       " (121, 142, 3),\n",
       " (124, 133, 3),\n",
       " (124, 124, 3),\n",
       " (145, 112, 3),\n",
       " (148, 127, 3),\n",
       " (142, 133, 3),\n",
       " (127, 130, 3),\n",
       " (133, 124, 3),\n",
       " (127, 133, 3),\n",
       " (130, 139, 3),\n",
       " (121, 142, 3),\n",
       " (94, 121, 3),\n",
       " (118, 124, 3),\n",
       " (118, 124, 3),\n",
       " (115, 100, 3),\n",
       " (136, 139, 3),\n",
       " (139, 136, 3),\n",
       " (133, 127, 3),\n",
       " (154, 127, 3),\n",
       " (145, 136, 3),\n",
       " (91, 100, 3),\n",
       " (121, 112, 3),\n",
       " (133, 121, 3),\n",
       " (136, 157, 3),\n",
       " (136, 145, 3),\n",
       " (133, 136, 3),\n",
       " (106, 127, 3),\n",
       " (142, 136, 3),\n",
       " (106, 112, 3),\n",
       " (127, 127, 3),\n",
       " (160, 154, 3),\n",
       " (109, 112, 3),\n",
       " (142, 97, 3),\n",
       " (121, 127, 3),\n",
       " (118, 121, 3),\n",
       " (136, 133, 3),\n",
       " (121, 133, 3),\n",
       " (148, 178, 3),\n",
       " (118, 115, 3),\n",
       " (112, 109, 3),\n",
       " (157, 160, 3),\n",
       " (124, 133, 3),\n",
       " (124, 133, 3),\n",
       " (136, 142, 3),\n",
       " (136, 121, 3),\n",
       " (121, 139, 3),\n",
       " (109, 112, 3),\n",
       " (142, 130, 3),\n",
       " (139, 133, 3),\n",
       " (121, 118, 3),\n",
       " (142, 151, 3),\n",
       " (136, 145, 3),\n",
       " (169, 193, 3),\n",
       " (202, 217, 3),\n",
       " (130, 145, 3),\n",
       " (133, 124, 3),\n",
       " (160, 136, 3),\n",
       " (118, 127, 3),\n",
       " (130, 124, 3),\n",
       " (142, 130, 3),\n",
       " (148, 139, 3),\n",
       " (175, 187, 3),\n",
       " (142, 133, 3),\n",
       " (139, 136, 3),\n",
       " (127, 127, 3),\n",
       " (130, 112, 3),\n",
       " (121, 157, 3),\n",
       " (124, 109, 3),\n",
       " (190, 127, 3),\n",
       " (166, 154, 3),\n",
       " (118, 127, 3),\n",
       " (127, 139, 3),\n",
       " (139, 139, 3),\n",
       " (154, 130, 3),\n",
       " (145, 139, 3),\n",
       " (124, 124, 3),\n",
       " (115, 145, 3),\n",
       " (121, 142, 3),\n",
       " (160, 154, 3),\n",
       " (169, 148, 3),\n",
       " (145, 133, 3),\n",
       " (133, 100, 3),\n",
       " (124, 127, 3),\n",
       " (130, 115, 3),\n",
       " (109, 112, 3),\n",
       " (115, 136, 3),\n",
       " (145, 151, 3),\n",
       " (136, 130, 3),\n",
       " (115, 97, 3),\n",
       " ...]"
      ]
     },
     "execution_count": 49,
     "metadata": {},
     "output_type": "execute_result"
    }
   ],
   "source": [
    "shapes"
   ]
  },
  {
   "cell_type": "code",
   "execution_count": 50,
   "metadata": {},
   "outputs": [
    {
     "name": "stdout",
     "output_type": "stream",
     "text": [
      "Minimum Dimension -  [40 49  3]\n",
      "Maximum Dimension -  [385 364   3]\n",
      "Mean Dimension -  [132.9600311  132.58335925   3.        ]\n"
     ]
    }
   ],
   "source": [
    "print('Minimum Dimension - ', np.min(shapes , axis = 0))\n",
    "print('Maximum Dimension - ', np.max(shapes , axis = 0))\n",
    "print('Mean Dimension - ', np.mean(shapes , axis = 0))"
   ]
  },
  {
   "cell_type": "code",
   "execution_count": 52,
   "metadata": {},
   "outputs": [],
   "source": [
    "# Method 1- Pixel Values as features\n",
    "RESIZE_DIM = [50,50]\n",
    "traindf_features_px = []\n",
    "\n",
    "for i in train_files:\n",
    "    image = imread(os.path.join(base_dir, i))\n",
    "    image = resize(image, RESIZE_DIM)\n",
    "    features = np.reshape(image,(RESIZE_DIM[0] * RESIZE_DIM[1] * 3))\n",
    "    traindf_features_px.append(features)\n",
    "    "
   ]
  },
  {
   "cell_type": "code",
   "execution_count": 56,
   "metadata": {},
   "outputs": [],
   "source": [
    "traindf_features_px = np.array(traindf_features_px)"
   ]
  },
  {
   "cell_type": "code",
   "execution_count": 59,
   "metadata": {},
   "outputs": [
    {
     "data": {
      "text/plain": [
       "(15432, 7500)"
      ]
     },
     "execution_count": 59,
     "metadata": {},
     "output_type": "execute_result"
    }
   ],
   "source": [
    "traindf_features_px.shape"
   ]
  },
  {
   "cell_type": "code",
   "execution_count": 60,
   "metadata": {},
   "outputs": [],
   "source": [
    "valdf_features_px = []\n",
    "\n",
    "for i in val_files:\n",
    "    image = imread(os.path.join(base_dir, i))\n",
    "    image = resize(image, RESIZE_DIM)\n",
    "    features = np.reshape(image,(RESIZE_DIM[0] * RESIZE_DIM[1] * 3))\n",
    "    valdf_features_px.append(features)"
   ]
  },
  {
   "cell_type": "code",
   "execution_count": 61,
   "metadata": {},
   "outputs": [],
   "source": [
    "valdf_features_px = np.array(valdf_features_px)"
   ]
  },
  {
   "cell_type": "code",
   "execution_count": 62,
   "metadata": {},
   "outputs": [
    {
     "data": {
      "text/plain": [
       "(3858, 7500)"
      ]
     },
     "execution_count": 62,
     "metadata": {},
     "output_type": "execute_result"
    }
   ],
   "source": [
    "valdf_features_px.shape"
   ]
  },
  {
   "cell_type": "code",
   "execution_count": 64,
   "metadata": {},
   "outputs": [],
   "source": [
    "# First model , building using Pixel Features\n",
    "from sklearn.linear_model import LogisticRegression\n",
    "from sklearn.metrics import accuracy_score"
   ]
  },
  {
   "cell_type": "code",
   "execution_count": 65,
   "metadata": {},
   "outputs": [],
   "source": [
    "lg_reg = LogisticRegression()"
   ]
  },
  {
   "cell_type": "code",
   "execution_count": 66,
   "metadata": {},
   "outputs": [
    {
     "name": "stderr",
     "output_type": "stream",
     "text": [
      "C:\\Users\\avani\\AnacondaLatest\\lib\\site-packages\\sklearn\\linear_model\\logistic.py:432: FutureWarning: Default solver will be changed to 'lbfgs' in 0.22. Specify a solver to silence this warning.\n",
      "  FutureWarning)\n"
     ]
    },
    {
     "data": {
      "text/plain": [
       "LogisticRegression(C=1.0, class_weight=None, dual=False, fit_intercept=True,\n",
       "                   intercept_scaling=1, l1_ratio=None, max_iter=100,\n",
       "                   multi_class='warn', n_jobs=None, penalty='l2',\n",
       "                   random_state=None, solver='warn', tol=0.0001, verbose=0,\n",
       "                   warm_start=False)"
      ]
     },
     "execution_count": 66,
     "metadata": {},
     "output_type": "execute_result"
    }
   ],
   "source": [
    "lg_reg.fit(traindf_features_px,train_labels)"
   ]
  },
  {
   "cell_type": "code",
   "execution_count": 68,
   "metadata": {},
   "outputs": [
    {
     "name": "stdout",
     "output_type": "stream",
     "text": [
      "Training model acuracy :  0.8007387247278382\n",
      "Validation model acuracy :  0.6775531363400725\n"
     ]
    }
   ],
   "source": [
    "# train prediction accuracy\n",
    "train_pred = lg_reg.predict(traindf_features_px)\n",
    "print('Training model acuracy : ', accuracy_score(train_labels,train_pred))\n",
    "\n",
    "# test prediction accuracy\n",
    "val_pred = lg_reg.predict(valdf_features_px)\n",
    "print('Validation model acuracy : ', accuracy_score(val_labels,val_pred))\n"
   ]
  },
  {
   "cell_type": "code",
   "execution_count": 69,
   "metadata": {},
   "outputs": [],
   "source": [
    "# Method 2 HOG features\n",
    "from skimage.feature import hog"
   ]
  },
  {
   "cell_type": "code",
   "execution_count": 70,
   "metadata": {},
   "outputs": [],
   "source": [
    "image = imread(os.path.join(base_dir,train_files.iloc[np.random.randint(0,1000)]))"
   ]
  },
  {
   "cell_type": "code",
   "execution_count": 71,
   "metadata": {},
   "outputs": [],
   "source": [
    "HOG_IMG_DIM = (128,64)\n",
    "image1 = resize(image, HOG_IMG_DIM)"
   ]
  },
  {
   "cell_type": "code",
   "execution_count": 72,
   "metadata": {},
   "outputs": [
    {
     "data": {
      "text/plain": [
       "<matplotlib.image.AxesImage at 0x27afb878710>"
      ]
     },
     "execution_count": 72,
     "metadata": {},
     "output_type": "execute_result"
    },
    {
     "data": {
      "image/png": "[encoded data removed]",
      "text/plain": [
       "<Figure size 432x288 with 1 Axes>"
      ]
     },
     "metadata": {
      "needs_background": "light"
     },
     "output_type": "display_data"
    }
   ],
   "source": [
    "#original image\n",
    "imshow(image)"
   ]
  },
  {
   "cell_type": "code",
   "execution_count": 73,
   "metadata": {},
   "outputs": [
    {
     "data": {
      "text/plain": [
       "<matplotlib.image.AxesImage at 0x27afb632c50>"
      ]
     },
     "execution_count": 73,
     "metadata": {},
     "output_type": "execute_result"
    },
    {
     "data": {
      "image/png": "[encoded data removed]",
      "text/plain": [
       "<Figure size 432x288 with 1 Axes>"
      ]
     },
     "metadata": {
      "needs_background": "light"
     },
     "output_type": "display_data"
    }
   ],
   "source": [
    "# resize image\n",
    "imshow(image1)"
   ]
  },
  {
   "cell_type": "code",
   "execution_count": 75,
   "metadata": {},
   "outputs": [],
   "source": [
    "# calculating hog features and hog image\n",
    "features , hog_image = hog(image1 , orientations=9,pixels_per_cell = (8,8) , cells_per_block=(2,2), visualize = True,\n",
    "                          multichannel = True)"
   ]
  },
  {
   "cell_type": "code",
   "execution_count": 76,
   "metadata": {},
   "outputs": [
    {
     "data": {
      "text/plain": [
       "<matplotlib.image.AxesImage at 0x27afb94a400>"
      ]
     },
     "execution_count": 76,
     "metadata": {},
     "output_type": "execute_result"
    },
    {
     "data": {
      "image/png": "[encoded data removed]",
      "text/plain": [
       "<Figure size 432x288 with 1 Axes>"
      ]
     },
     "metadata": {
      "needs_background": "light"
     },
     "output_type": "display_data"
    }
   ],
   "source": [
    "imshow(hog_image)"
   ]
  },
  {
   "cell_type": "code",
   "execution_count": 77,
   "metadata": {},
   "outputs": [
    {
     "data": {
      "text/plain": [
       "<matplotlib.image.AxesImage at 0x27afb94ad68>"
      ]
     },
     "execution_count": 77,
     "metadata": {},
     "output_type": "execute_result"
    },
    {
     "data": {
      "image/png": "[encoded data removed]",
      "text/plain": [
       "<Figure size 432x288 with 1 Axes>"
      ]
     },
     "metadata": {
      "needs_background": "light"
     },
     "output_type": "display_data"
    }
   ],
   "source": [
    "plt.imshow(hog_image, cmap= 'gray')"
   ]
  },
  {
   "cell_type": "code",
   "execution_count": 80,
   "metadata": {},
   "outputs": [],
   "source": [
    "#Calclulate HOG features for both Test and Train set\n",
    "# For training set\n",
    "traindf_features_hog = []\n",
    "\n",
    "for i in train_files:\n",
    "    image =  imread(os.path.join(base_dir,i))\n",
    "    image = resize(image,HOG_IMG_DIM)\n",
    "    \n",
    "    #calculating HOG features\n",
    "    features , hog_image = hog(image , orientations=9,pixels_per_cell = (8,8) , cells_per_block=(2,2), visualize = True,\n",
    "                          multichannel = True)\n",
    "    hog_features = np.reshape(features,(features.shape[0]))\n",
    "    \n",
    "    traindf_features_hog.append(hog_features)\n",
    "\n",
    "traindf_features_hog = np.array(traindf_features_hog)"
   ]
  },
  {
   "cell_type": "code",
   "execution_count": 82,
   "metadata": {},
   "outputs": [],
   "source": [
    "# For validation set\n",
    "valdf_features_hog = []\n",
    "\n",
    "for i in val_files:\n",
    "    image =  imread(os.path.join(base_dir,i))\n",
    "    image = resize(image,HOG_IMG_DIM)\n",
    "    \n",
    "    #calculating HOG features\n",
    "    features , hog_image = hog(image , orientations=9,pixels_per_cell = (8,8) , cells_per_block=(2,2), visualize = True,\n",
    "                          multichannel = True)\n",
    "    hog_features = np.reshape(features,(features.shape[0]))\n",
    "    \n",
    "    valdf_features_hog.append(hog_features)\n",
    "\n",
    "valdf_features_hog = np.array(valdf_features_hog)"
   ]
  },
  {
   "cell_type": "code",
   "execution_count": 84,
   "metadata": {},
   "outputs": [
    {
     "name": "stderr",
     "output_type": "stream",
     "text": [
      "C:\\Users\\avani\\AnacondaLatest\\lib\\site-packages\\sklearn\\linear_model\\logistic.py:432: FutureWarning: Default solver will be changed to 'lbfgs' in 0.22. Specify a solver to silence this warning.\n",
      "  FutureWarning)\n"
     ]
    },
    {
     "name": "stdout",
     "output_type": "stream",
     "text": [
      "Training model acuracy :  0.8993001555209953\n",
      "Validation model acuracy :  0.8208916537065837\n"
     ]
    }
   ],
   "source": [
    "lg_reg = LogisticRegression()\n",
    "\n",
    "lg_reg.fit(traindf_features_hog, train_labels)\n",
    "\n",
    "# train prediction accuracy\n",
    "train_pred = lg_reg.predict(traindf_features_hog)\n",
    "print('Training model acuracy : ', accuracy_score(train_labels,train_pred))\n",
    "\n",
    "# test prediction accuracy\n",
    "val_pred = lg_reg.predict(valdf_features_hog)\n",
    "print('Validation model acuracy : ', accuracy_score(val_labels,val_pred))"
   ]
  },
  {
   "cell_type": "code",
   "execution_count": null,
   "metadata": {},
   "outputs": [],
   "source": []
  }
 ],
 "metadata": {
  "kernelspec": {
   "display_name": "Python 3",
   "language": "python",
   "name": "python3"
  },
  "language_info": {
   "codemirror_mode": {
    "name": "ipython",
    "version": 3
   },
   "file_extension": ".py",
   "mimetype": "text/x-python",
   "name": "python",
   "nbconvert_exporter": "python",
   "pygments_lexer": "ipython3",
   "version": "3.7.3"
  }
 },
 "nbformat": 4,
 "nbformat_minor": 2
}
